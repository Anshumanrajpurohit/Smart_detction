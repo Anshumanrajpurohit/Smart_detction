{
 "cells": [
  {
   "cell_type": "code",
   "execution_count": null,
   "id": "7ae857b5",
   "metadata": {},
   "outputs": [],
   "source": [
    "from deepface import DeepFace\n",
    "import numpy as np\n",
    "import os\n",
    "\n",
    "genders = ['Female', 'Male']\n",
    "\n",
    "def gender_detection(folder_path):\n",
    "    pred= []\n",
    "    result = {}\n",
    "    for filename in os.listdir(folder_path):\n",
    "        if filename.lower().endswith((\".png\", \".jpeg\", \".jpg\")):\n",
    "            image_path = os.path.join(folder_path, filename)\n",
    "            try:\n",
    "                gender = DeepFace.analyze(img_path=image_path, actions=['gender'], enforce_detection=False)\n",
    "                gender_scores = gender[0]['gender']\n",
    "                predicted_gender = genders[np.argmax(list(gender_scores.values()))]\n",
    "                confidence = max(gender_scores.values())\n",
    "                result[filename] = {\"gender\": predicted_gender, \"confidence\": confidence}\n",
    "            except Exception as e:\n",
    "                print(f\"Error processing {filename}: {e}\")\n",
    "                result[filename] = {\"gender\": \"Error\", \"confidence\": 0.0}\n",
    "            pred.append(predicted_gender)\n",
    "    return result,pred\n",
    "\n",
    "\n"
   ]
  },
  {
   "cell_type": "code",
   "execution_count": null,
   "id": "559b5a9b",
   "metadata": {},
   "outputs": [],
   "source": [
    "img_folder_f = \"/content/sample_data/images/female\"\n",
    "img_folder_m = \"/content/sample_data/images/male\"\n",
    "\n",
    "paths = [img_folder_f, img_folder_m]\n",
    "\n",
    "for folder in paths:\n",
    "    print(f\"\\nResults for folder: {folder}\")\n",
    "    result,pred = gender_detection(folder)\n",
    "    print(result)\n",
    "    print(pred)"
   ]
  }
 ],
 "metadata": {
  "kernelspec": {
   "display_name": "myproject",
   "language": "python",
   "name": "python3"
  },
  "language_info": {
   "name": "python",
   "version": "3.11.9"
  }
 },
 "nbformat": 4,
 "nbformat_minor": 5
}
